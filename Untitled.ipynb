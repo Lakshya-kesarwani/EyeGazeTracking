{
 "cells": [
  {
   "cell_type": "code",
   "execution_count": 1,
   "id": "d69a7fbb-1d49-4323-8ea2-7bd8af17b8e6",
   "metadata": {},
   "outputs": [
    {
     "name": "stdout",
     "output_type": "stream",
     "text": [
      "Requirement already satisfied: tensorflow in /Users/mananchavda/.pyenv/versions/3.10.13/lib/python3.10/site-packages (2.16.2)\n",
      "Collecting scikit-learn\n",
      "  Downloading scikit_learn-1.6.1-cp310-cp310-macosx_12_0_arm64.whl.metadata (31 kB)\n",
      "Requirement already satisfied: matplotlib in /Users/mananchavda/.pyenv/versions/3.10.13/lib/python3.10/site-packages (3.10.3)\n",
      "Requirement already satisfied: opencv-python in /Users/mananchavda/.pyenv/versions/3.10.13/lib/python3.10/site-packages (4.8.0.76)\n",
      "Requirement already satisfied: absl-py>=1.0.0 in /Users/mananchavda/.pyenv/versions/3.10.13/lib/python3.10/site-packages (from tensorflow) (2.2.2)\n",
      "Requirement already satisfied: astunparse>=1.6.0 in /Users/mananchavda/.pyenv/versions/3.10.13/lib/python3.10/site-packages (from tensorflow) (1.6.3)\n",
      "Requirement already satisfied: flatbuffers>=23.5.26 in /Users/mananchavda/.pyenv/versions/3.10.13/lib/python3.10/site-packages (from tensorflow) (25.2.10)\n",
      "Requirement already satisfied: gast!=0.5.0,!=0.5.1,!=0.5.2,>=0.2.1 in /Users/mananchavda/.pyenv/versions/3.10.13/lib/python3.10/site-packages (from tensorflow) (0.6.0)\n",
      "Requirement already satisfied: google-pasta>=0.1.1 in /Users/mananchavda/.pyenv/versions/3.10.13/lib/python3.10/site-packages (from tensorflow) (0.2.0)\n",
      "Requirement already satisfied: h5py>=3.10.0 in /Users/mananchavda/.pyenv/versions/3.10.13/lib/python3.10/site-packages (from tensorflow) (3.13.0)\n",
      "Requirement already satisfied: libclang>=13.0.0 in /Users/mananchavda/.pyenv/versions/3.10.13/lib/python3.10/site-packages (from tensorflow) (18.1.1)\n",
      "Requirement already satisfied: ml-dtypes~=0.3.1 in /Users/mananchavda/.pyenv/versions/3.10.13/lib/python3.10/site-packages (from tensorflow) (0.3.2)\n",
      "Requirement already satisfied: opt-einsum>=2.3.2 in /Users/mananchavda/.pyenv/versions/3.10.13/lib/python3.10/site-packages (from tensorflow) (3.4.0)\n",
      "Requirement already satisfied: packaging in /Users/mananchavda/.pyenv/versions/3.10.13/lib/python3.10/site-packages (from tensorflow) (25.0)\n",
      "Requirement already satisfied: protobuf!=4.21.0,!=4.21.1,!=4.21.2,!=4.21.3,!=4.21.4,!=4.21.5,<5.0.0dev,>=3.20.3 in /Users/mananchavda/.pyenv/versions/3.10.13/lib/python3.10/site-packages (from tensorflow) (4.25.7)\n",
      "Requirement already satisfied: requests<3,>=2.21.0 in /Users/mananchavda/.pyenv/versions/3.10.13/lib/python3.10/site-packages (from tensorflow) (2.32.3)\n",
      "Requirement already satisfied: setuptools in /Users/mananchavda/.pyenv/versions/3.10.13/lib/python3.10/site-packages (from tensorflow) (65.5.0)\n",
      "Requirement already satisfied: six>=1.12.0 in /Users/mananchavda/.pyenv/versions/3.10.13/lib/python3.10/site-packages (from tensorflow) (1.17.0)\n",
      "Requirement already satisfied: termcolor>=1.1.0 in /Users/mananchavda/.pyenv/versions/3.10.13/lib/python3.10/site-packages (from tensorflow) (3.1.0)\n",
      "Requirement already satisfied: typing-extensions>=3.6.6 in /Users/mananchavda/.pyenv/versions/3.10.13/lib/python3.10/site-packages (from tensorflow) (4.13.2)\n",
      "Requirement already satisfied: wrapt>=1.11.0 in /Users/mananchavda/.pyenv/versions/3.10.13/lib/python3.10/site-packages (from tensorflow) (1.17.2)\n",
      "Requirement already satisfied: grpcio<2.0,>=1.24.3 in /Users/mananchavda/.pyenv/versions/3.10.13/lib/python3.10/site-packages (from tensorflow) (1.71.0)\n",
      "Requirement already satisfied: tensorboard<2.17,>=2.16 in /Users/mananchavda/.pyenv/versions/3.10.13/lib/python3.10/site-packages (from tensorflow) (2.16.2)\n",
      "Requirement already satisfied: keras>=3.0.0 in /Users/mananchavda/.pyenv/versions/3.10.13/lib/python3.10/site-packages (from tensorflow) (3.9.2)\n",
      "Requirement already satisfied: tensorflow-io-gcs-filesystem>=0.23.1 in /Users/mananchavda/.pyenv/versions/3.10.13/lib/python3.10/site-packages (from tensorflow) (0.37.1)\n",
      "Requirement already satisfied: numpy<2.0.0,>=1.23.5 in /Users/mananchavda/.pyenv/versions/3.10.13/lib/python3.10/site-packages (from tensorflow) (1.25.2)\n",
      "Requirement already satisfied: charset-normalizer<4,>=2 in /Users/mananchavda/.pyenv/versions/3.10.13/lib/python3.10/site-packages (from requests<3,>=2.21.0->tensorflow) (3.4.2)\n",
      "Requirement already satisfied: idna<4,>=2.5 in /Users/mananchavda/.pyenv/versions/3.10.13/lib/python3.10/site-packages (from requests<3,>=2.21.0->tensorflow) (3.10)\n",
      "Requirement already satisfied: urllib3<3,>=1.21.1 in /Users/mananchavda/.pyenv/versions/3.10.13/lib/python3.10/site-packages (from requests<3,>=2.21.0->tensorflow) (2.4.0)\n",
      "Requirement already satisfied: certifi>=2017.4.17 in /Users/mananchavda/.pyenv/versions/3.10.13/lib/python3.10/site-packages (from requests<3,>=2.21.0->tensorflow) (2025.4.26)\n",
      "Requirement already satisfied: markdown>=2.6.8 in /Users/mananchavda/.pyenv/versions/3.10.13/lib/python3.10/site-packages (from tensorboard<2.17,>=2.16->tensorflow) (3.8)\n",
      "Requirement already satisfied: tensorboard-data-server<0.8.0,>=0.7.0 in /Users/mananchavda/.pyenv/versions/3.10.13/lib/python3.10/site-packages (from tensorboard<2.17,>=2.16->tensorflow) (0.7.2)\n",
      "Requirement already satisfied: werkzeug>=1.0.1 in /Users/mananchavda/.pyenv/versions/3.10.13/lib/python3.10/site-packages (from tensorboard<2.17,>=2.16->tensorflow) (3.1.3)\n",
      "Requirement already satisfied: scipy>=1.6.0 in /Users/mananchavda/.pyenv/versions/3.10.13/lib/python3.10/site-packages (from scikit-learn) (1.15.3)\n",
      "Collecting joblib>=1.2.0 (from scikit-learn)\n",
      "  Downloading joblib-1.5.0-py3-none-any.whl.metadata (5.6 kB)\n",
      "Collecting threadpoolctl>=3.1.0 (from scikit-learn)\n",
      "  Downloading threadpoolctl-3.6.0-py3-none-any.whl.metadata (13 kB)\n",
      "Requirement already satisfied: contourpy>=1.0.1 in /Users/mananchavda/.pyenv/versions/3.10.13/lib/python3.10/site-packages (from matplotlib) (1.3.2)\n",
      "Requirement already satisfied: cycler>=0.10 in /Users/mananchavda/.pyenv/versions/3.10.13/lib/python3.10/site-packages (from matplotlib) (0.12.1)\n",
      "Requirement already satisfied: fonttools>=4.22.0 in /Users/mananchavda/.pyenv/versions/3.10.13/lib/python3.10/site-packages (from matplotlib) (4.58.0)\n",
      "Requirement already satisfied: kiwisolver>=1.3.1 in /Users/mananchavda/.pyenv/versions/3.10.13/lib/python3.10/site-packages (from matplotlib) (1.4.8)\n",
      "Requirement already satisfied: pillow>=8 in /Users/mananchavda/.pyenv/versions/3.10.13/lib/python3.10/site-packages (from matplotlib) (10.0.0)\n",
      "Requirement already satisfied: pyparsing>=2.3.1 in /Users/mananchavda/.pyenv/versions/3.10.13/lib/python3.10/site-packages (from matplotlib) (3.2.3)\n",
      "Requirement already satisfied: python-dateutil>=2.7 in /Users/mananchavda/.pyenv/versions/3.10.13/lib/python3.10/site-packages (from matplotlib) (2.9.0.post0)\n",
      "Requirement already satisfied: wheel<1.0,>=0.23.0 in /Users/mananchavda/.pyenv/versions/3.10.13/lib/python3.10/site-packages (from astunparse>=1.6.0->tensorflow) (0.45.1)\n",
      "Requirement already satisfied: rich in /Users/mananchavda/.pyenv/versions/3.10.13/lib/python3.10/site-packages (from keras>=3.0.0->tensorflow) (14.0.0)\n",
      "Requirement already satisfied: namex in /Users/mananchavda/.pyenv/versions/3.10.13/lib/python3.10/site-packages (from keras>=3.0.0->tensorflow) (0.0.9)\n",
      "Requirement already satisfied: optree in /Users/mananchavda/.pyenv/versions/3.10.13/lib/python3.10/site-packages (from keras>=3.0.0->tensorflow) (0.15.0)\n",
      "Requirement already satisfied: MarkupSafe>=2.1.1 in /Users/mananchavda/.pyenv/versions/3.10.13/lib/python3.10/site-packages (from werkzeug>=1.0.1->tensorboard<2.17,>=2.16->tensorflow) (3.0.2)\n",
      "Requirement already satisfied: markdown-it-py>=2.2.0 in /Users/mananchavda/.pyenv/versions/3.10.13/lib/python3.10/site-packages (from rich->keras>=3.0.0->tensorflow) (3.0.0)\n",
      "Requirement already satisfied: pygments<3.0.0,>=2.13.0 in /Users/mananchavda/.pyenv/versions/3.10.13/lib/python3.10/site-packages (from rich->keras>=3.0.0->tensorflow) (2.19.1)\n",
      "Requirement already satisfied: mdurl~=0.1 in /Users/mananchavda/.pyenv/versions/3.10.13/lib/python3.10/site-packages (from markdown-it-py>=2.2.0->rich->keras>=3.0.0->tensorflow) (0.1.2)\n",
      "Downloading scikit_learn-1.6.1-cp310-cp310-macosx_12_0_arm64.whl (11.1 MB)\n",
      "\u001b[2K   \u001b[38;2;114;156;31m━━━━━━━━━━━━━━━━━━━━━━━━━━━━━━━━━━━━━━━━\u001b[0m \u001b[32m11.1/11.1 MB\u001b[0m \u001b[31m51.2 MB/s\u001b[0m eta \u001b[36m0:00:00\u001b[0mMB/s\u001b[0m eta \u001b[36m0:00:01\u001b[0m\n",
      "\u001b[?25hDownloading joblib-1.5.0-py3-none-any.whl (307 kB)\n",
      "Downloading threadpoolctl-3.6.0-py3-none-any.whl (18 kB)\n",
      "Installing collected packages: threadpoolctl, joblib, scikit-learn\n",
      "\u001b[2K   \u001b[38;2;114;156;31m━━━━━━━━━━━━━━━━━━━━━━━━━━━━━━━━━━━━━━━━\u001b[0m \u001b[32m3/3\u001b[0m [scikit-learn]━━━━━\u001b[0m \u001b[32m2/3\u001b[0m [scikit-learn]\n",
      "\u001b[1A\u001b[2KSuccessfully installed joblib-1.5.0 scikit-learn-1.6.1 threadpoolctl-3.6.0\n",
      "Note: you may need to restart the kernel to use updated packages.\n"
     ]
    }
   ],
   "source": [
    "pip install tensorflow scikit-learn matplotlib opencv-python\n"
   ]
  },
  {
   "cell_type": "code",
   "execution_count": 2,
   "id": "32570e1c-494c-4ae7-9429-3a38a84d720c",
   "metadata": {},
   "outputs": [
    {
     "name": "stdout",
     "output_type": "stream",
     "text": [
      "Classes: ['bottom-center', 'bottom-left', 'bottom-right', 'center', 'middle-left', 'middle-right', 'top-center', 'top-left', 'top-right']\n",
      "Number of classes: 9\n",
      "Training samples: 724\n",
      "Validation samples: 182\n"
     ]
    }
   ],
   "source": [
    "import os\n",
    "import cv2\n",
    "import numpy as np\n",
    "from sklearn.model_selection import train_test_split\n",
    "from tensorflow.keras.utils import to_categorical\n",
    "\n",
    "# Constants\n",
    "DATASET_PATH = '/Users/mananchavda/EyeDetectionApp/cropped_dataset'\n",
    "IMG_SIZE = (64, 64) \n",
    "CLASSES = sorted(os.listdir(DATASET_PATH))  \n",
    "NUM_CLASSES = len(CLASSES)\n",
    "\n",
    "# Load data\n",
    "X, y = [], []\n",
    "for idx, label in enumerate(CLASSES):\n",
    "    label_path = os.path.join(DATASET_PATH, label)\n",
    "    for file in os.listdir(label_path):\n",
    "        img_path = os.path.join(label_path, file)\n",
    "        img = cv2.imread(img_path)\n",
    "        if img is not None:\n",
    "            img = cv2.resize(img, IMG_SIZE)\n",
    "            X.append(img)\n",
    "            y.append(idx)\n",
    "\n",
    "# Convert to NumPy and normalize\n",
    "X = np.array(X, dtype=np.float32) / 255.0\n",
    "y = to_categorical(y, num_classes=NUM_CLASSES)\n",
    "\n",
    "# Split into training and validation sets\n",
    "X_train, X_val, y_train, y_val = train_test_split(X, y, test_size=0.2, random_state=42)\n",
    "\n",
    "# Output summary\n",
    "print(\"Classes:\", CLASSES)\n",
    "print(\"Number of classes:\", NUM_CLASSES)\n",
    "print(\"Training samples:\", X_train.shape[0])\n",
    "print(\"Validation samples:\", X_val.shape[0])\n",
    "\n"
   ]
  },
  {
   "cell_type": "code",
   "execution_count": null,
   "id": "87f01e82-6733-4c9c-a907-c6e404c0a588",
   "metadata": {},
   "outputs": [],
   "source": []
  }
 ],
 "metadata": {
  "kernelspec": {
   "display_name": "Python 3 (ipykernel)",
   "language": "python",
   "name": "python3"
  },
  "language_info": {
   "codemirror_mode": {
    "name": "ipython",
    "version": 3
   },
   "file_extension": ".py",
   "mimetype": "text/x-python",
   "name": "python",
   "nbconvert_exporter": "python",
   "pygments_lexer": "ipython3",
   "version": "3.10.13"
  }
 },
 "nbformat": 4,
 "nbformat_minor": 5
}
